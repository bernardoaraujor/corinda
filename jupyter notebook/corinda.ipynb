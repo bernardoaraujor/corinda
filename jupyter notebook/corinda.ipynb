{
 "cells": [
  {
   "cell_type": "markdown",
   "metadata": {},
   "source": [
    "Let us investigate Corinda's Model Strength Estimator implementation in Python:\n",
    "\n",
    "$\\mathfrak{S}(\\mathcal{C}, \\theta) = (1 - \\theta)^a, a = \\frac{1}{\\log_{10}(\\mathcal{C})}$\n"
   ]
  },
  {
   "cell_type": "code",
   "execution_count": 1,
   "metadata": {},
   "outputs": [
    {
     "name": "stdout",
     "output_type": "stream",
     "text": [
      "inf\n"
     ]
    },
    {
     "name": "stderr",
     "output_type": "stream",
     "text": [
      "/home/bernardo/anaconda3/lib/python3.6/site-packages/ipykernel_launcher.py:12: RuntimeWarning: divide by zero encountered in double_scalars\n",
      "  if sys.path[0] == '':\n"
     ]
    }
   ],
   "source": [
    "import numpy as np\n",
    "import matplotlib.pyplot as plt\n",
    "\n",
    "def S(C, theta):\n",
    "    a = 1/np.log10(C)\n",
    "    S = np.power((1 - theta), a)\n",
    "    \n",
    "    return S\n",
    "\n",
    "Cmin = 1\n",
    "\n",
    "print(1/np.log10(Cmin))"
   ]
  },
  {
   "cell_type": "markdown",
   "metadata": {},
   "source": [
    "Note that because $\\mathcal{C}_{min} = 1$, and therefore $\\log_{10}(\\mathcal{C}_{min}) = 0$, theoretically $a$ could end up in a division by 0. Fortunately though, Python treats that case by making $a = inf$ and giving us a warning."
   ]
  },
  {
   "cell_type": "code",
   "execution_count": 2,
   "metadata": {},
   "outputs": [
    {
     "name": "stdout",
     "output_type": "stream",
     "text": [
      "[ 1.  0.  0.  0.  0.  0.  0.  0.  0.  0.  0.  0.  0.  0.  0.  0.  0.  0.\n",
      "  0.  0.  0.  0.  0.  0.  0.  0.  0.  0.  0.  0.  0.  0.  0.  0.  0.  0.\n",
      "  0.  0.  0.  0.  0.  0.  0.  0.  0.  0.  0.  0.  0.  0.  0.  0.  0.  0.\n",
      "  0.  0.  0.  0.  0.  0.  0.  0.  0.  0.  0.  0.  0.  0.  0.  0.  0.  0.\n",
      "  0.  0.  0.  0.  0.  0.  0.  0.  0.  0.  0.  0.  0.  0.  0.  0.  0.  0.\n",
      "  0.  0.  0.  0.  0.  0.  0.  0.  0.  0.]\n"
     ]
    },
    {
     "name": "stderr",
     "output_type": "stream",
     "text": [
      "/home/bernardo/anaconda3/lib/python3.6/site-packages/ipykernel_launcher.py:5: RuntimeWarning: divide by zero encountered in double_scalars\n",
      "  \"\"\"\n"
     ]
    }
   ],
   "source": [
    "N = 100\n",
    "theta = np.linspace(0, 1, N)\n",
    "\n",
    "print(S(Cmin, theta))"
   ]
  },
  {
   "cell_type": "markdown",
   "metadata": {},
   "source": [
    "Also, with the exception of $\\mathfrak{S}(1, 0) = (1)^{inf} = 1$, Python assigns $\\mathfrak{S}(1, \\theta) = (1 - \\theta)^{inf} = 0$, also giving a warning. Note that $\\mathfrak{S}(1, 0) = 1$ is not problematic though, since a Model that never happens in $\\mathcal{M}_{\\Gamma}$ is indeed very strong, no matter how small $\\mathcal{C}$ is."
   ]
  },
  {
   "cell_type": "code",
   "execution_count": null,
   "metadata": {},
   "outputs": [],
   "source": []
  },
  {
   "cell_type": "markdown",
   "metadata": {},
   "source": [
    "Now let's plot a colormap of $\\mathfrak{S}(\\mathcal{C}, \\theta)$:"
   ]
  },
  {
   "cell_type": "code",
   "execution_count": 3,
   "metadata": {},
   "outputs": [
    {
     "name": "stderr",
     "output_type": "stream",
     "text": [
      "/home/bernardo/anaconda3/lib/python3.6/site-packages/ipykernel_launcher.py:5: RuntimeWarning: divide by zero encountered in double_scalars\n",
      "  \"\"\"\n"
     ]
    },
    {
     "data": {
      "image/png": "[encoded data removed]",
      "text/plain": [
       "<matplotlib.figure.Figure at 0x7fefb451ddd8>"
      ]
     },
     "metadata": {},
     "output_type": "display_data"
    }
   ],
   "source": [
    "C = np.logspace(0, 10, N, base=10)\n",
    "\n",
    "S_matrix = np.zeros((N, N))\n",
    "\n",
    "for x in range(0, N):\n",
    "    for y in range(0, N):\n",
    "        S_matrix[y, x] = S(C[y], theta[x])\n",
    "        \n",
    "fig, ax = plt.subplots()\n",
    "        \n",
    "plt.imshow(S_matrix, cmap='jet', origin='lower')\n",
    "plt.ylabel('$\\log_{10}(\\mathcal{C})$')\n",
    "plt.xlabel('$\\\\theta$')\n",
    "plt.title(\"$\\\\mathfrak{S}(\\mathcal{C}, \\\\theta)$\")\n",
    "\n",
    "x_labels = ['', '0.0', '0.2', '0.4', '0.6', '0.8']\n",
    "ax.set_xticklabels(x_labels)\n",
    "y_labels = ['', '0', '2', '4', '6', '8']\n",
    "ax.set_yticklabels(y_labels)\n",
    "\n",
    "plt.colorbar()\n",
    "fig.savefig('grafico.png', dpi = 300)\n",
    "plt.show()\n",
    "\n"
   ]
  }
 ],
 "metadata": {
  "kernelspec": {
   "display_name": "Python 3",
   "language": "python",
   "name": "python3"
  },
  "language_info": {
   "codemirror_mode": {
    "name": "ipython",
    "version": 3
   },
   "file_extension": ".py",
   "mimetype": "text/x-python",
   "name": "python",
   "nbconvert_exporter": "python",
   "pygments_lexer": "ipython3",
   "version": "3.6.1"
  }
 },
 "nbformat": 4,
 "nbformat_minor": 2
}
